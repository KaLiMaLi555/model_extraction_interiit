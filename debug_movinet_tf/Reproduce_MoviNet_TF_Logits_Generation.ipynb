{
  "nbformat": 4,
  "nbformat_minor": 0,
  "metadata": {
    "colab": {
      "name": "[Do Not Edit] MoviNet TF Logits Generation",
      "provenance": [],
      "collapsed_sections": []
    },
    "kernelspec": {
      "name": "python3",
      "display_name": "Python 3"
    },
    "language_info": {
      "name": "python"
    },
    "accelerator": "GPU"
  },
  "cells": [
    {
      "cell_type": "code",
      "source": [
        "from google.colab import drive\n",
        "drive.mount('/content/drive')"
      ],
      "metadata": {
        "colab": {
          "base_uri": "https://localhost:8080/"
        },
        "id": "FOHkyNn__ggR",
        "outputId": "c4814de0-07ea-4042-c8a6-de6a9abba9da"
      },
      "execution_count": 2,
      "outputs": [
        {
          "output_type": "stream",
          "name": "stdout",
          "text": [
            "Drive already mounted at /content/drive; to attempt to forcibly remount, call drive.mount(\"/content/drive\", force_remount=True).\n"
          ]
        }
      ]
    },
    {
      "cell_type": "code",
      "source": [
        "!cp  /content/drive/MyDrive/code/env.py /content/\n",
        "!cp  /content/drive/MyDrive/code/dataloader.py /content/\n",
        "!cp  /content/drive/MyDrive/code/get_embeddings.py /content/"
      ],
      "metadata": {
        "id": "wMLNY_tOB1ns"
      },
      "execution_count": 3,
      "outputs": []
    },
    {
      "cell_type": "code",
      "source": [
        "# !cp /content/drive/MyDrive/random_data.zip /content/correct_data.zip\n",
        "!cp /content/drive/MyDrive/selected_frames.zip /content/selected_frames.zip"
      ],
      "metadata": {
        "id": "wER54aUudtmW"
      },
      "execution_count": 1,
      "outputs": []
    },
    {
      "cell_type": "code",
      "source": [
        "import shutil\n",
        "import os\n",
        "# print(os.getcwd())\n",
        "shutil.unpack_archive('selected_frames.zip', 'selected_frames')"
      ],
      "metadata": {
        "id": "NiPox4mZd14d"
      },
      "execution_count": 2,
      "outputs": []
    },
    {
      "cell_type": "code",
      "source": [
        "import os\n",
        "import torch\n",
        "import pickle\n",
        "import random\n",
        "import argparse\n",
        "import numpy as np\n",
        "import pandas as pd\n",
        "import torch.nn as nn\n",
        "from tqdm import tqdm\n",
        "from PIL import Image\n",
        "from env import set_seed\n",
        "from dataloader import Dataloader\n",
        "from torch.utils.data import TensorDataset, DataLoader, Dataset\n",
        "\n",
        "import tensorflow as tf\n",
        "import tensorflow_hub as hub\n",
        "\n",
        "# from official.projects.movinet.modeling import movinet\n",
        "# from official.projects.movinet.modeling import movinet_model\n",
        "\n",
        "import warnings\n",
        "warnings.filterwarnings(\"ignore\")"
      ],
      "metadata": {
        "id": "PlNp6g38dEOI"
      },
      "execution_count": 4,
      "outputs": []
    },
    {
      "cell_type": "code",
      "source": [
        "device_name = tf.test.gpu_device_name()\n",
        "if device_name != '/device:GPU:0':\n",
        "  raise SystemError('GPU device not found')"
      ],
      "metadata": {
        "id": "u3bN0Glce8vq"
      },
      "execution_count": 4,
      "outputs": []
    },
    {
      "cell_type": "code",
      "source": [
        "args = pd.DataFrame()\n",
        "args.batch_size = 2\n",
        "args.logit_dir = \"/content/drive/MyDrive/logits\"\n",
        "args.is_random = True\n",
        "args.num_classes = 5\n",
        "args.num_frames = 5\n",
        "args.seed = 42\n",
        "args.model_name = \"movinet\"\n",
        "args.dataset_type = \"noise\"\n",
        "args.video_dir_path = \"/content/extracted_correct_data/random_data\""
      ],
      "metadata": {
        "id": "QdxOwVBWA3Rv"
      },
      "execution_count": 15,
      "outputs": []
    },
    {
      "cell_type": "code",
      "source": [
        "set_seed(args.seed)\n",
        "\n",
        "if not os.path.exists(args.logit_dir):\n",
        "    os.makedirs(args.logit_dir)"
      ],
      "metadata": {
        "id": "E7N83U6gHN7E"
      },
      "execution_count": 6,
      "outputs": []
    },
    {
      "cell_type": "code",
      "source": [
        "print(\"\\n######################## Loading Model ########################\\n\")\n",
        "hub_url = \"https://tfhub.dev/tensorflow/movinet/a2/base/kinetics-600/classification/3\"\n",
        "\n",
        "encoder = hub.KerasLayer(hub_url, trainable=False)\n",
        "inputs = tf.keras.layers.Input(shape=[None, None, None, 3], dtype=tf.float32, name='image')\n",
        "\n",
        "# [batch_size, 600]\n",
        "outputs = encoder(dict(image=inputs))"
      ],
      "metadata": {
        "colab": {
          "base_uri": "https://localhost:8080/"
        },
        "id": "gBGrYRKZHm5s",
        "outputId": "b1a8239f-caa2-4ff2-e752-a93f409fd1f8"
      },
      "execution_count": 13,
      "outputs": [
        {
          "output_type": "stream",
          "name": "stdout",
          "text": [
            "\n",
            "######################## Loading Model ########################\n",
            "\n"
          ]
        }
      ]
    },
    {
      "cell_type": "code",
      "source": [
        "model = tf.keras.Model(inputs, outputs, name='movinet')"
      ],
      "metadata": {
        "id": "7Y-nKq2ThCGq"
      },
      "execution_count": 14,
      "outputs": []
    },
    {
      "cell_type": "code",
      "source": [
        "print(\"\\n######################## Loading Data ########################\\n\")\n",
        "dataloader = Dataloader(args.video_dir_path, num_classes = args.num_classes)\n",
        "\n",
        "tensor_dataset = tf.data.Dataset.from_tensor_slices((dataloader.instances, dataloader.labels))\n",
        "batched_dataset = tensor_dataset.batch(args.batch_size)"
      ],
      "metadata": {
        "colab": {
          "base_uri": "https://localhost:8080/"
        },
        "id": "caL8pi3ro35f",
        "outputId": "22f03656-5983-4425-a4c4-e8623ae853ca"
      },
      "execution_count": 7,
      "outputs": [
        {
          "output_type": "stream",
          "name": "stdout",
          "text": [
            "\n",
            "######################## Loading Data ########################\n",
            "\n"
          ]
        },
        {
          "output_type": "stream",
          "name": "stderr",
          "text": [
            "100%|██████████| 1000/1000 [00:14<00:00, 70.88it/s]\n"
          ]
        }
      ]
    },
    {
      "cell_type": "code",
      "source": [
        "def get_logits(model, model_name, dataloader, device='/device:GPU:0'):\n",
        "    \n",
        "    logits = []\n",
        "    labels = []\n",
        "\n",
        "    for idx, (video_frames, label) in tqdm(enumerate(dataloader), position=0, leave=True):\n",
        "        if idx == 5: break\n",
        "        shape = video_frames.shape\n",
        "        with tf.device(device):\n",
        "            outputs = tf.stop_gradient(model(video_frames))\n",
        "        del video_frames\n",
        "        logits.extend(outputs)\n",
        "        labels.extend(label)\n",
        "\n",
        "    if model_name != \"movinet\":\n",
        "        logits = torch.from_numpy(np.array(logits))\n",
        "    else:\n",
        "        logits = tf.stack(logits)\n",
        "\n",
        "    labels = tf.stack(labels)\n",
        "\n",
        "    return logits, labels"
      ],
      "metadata": {
        "id": "RKXYC5XCA1zF"
      },
      "execution_count": 17,
      "outputs": []
    },
    {
      "cell_type": "code",
      "source": [
        "print(\"\\n######################## Getting Logits ########################\\n\")\n",
        "logits, labels = get_logits(model, args.model_name, batched_dataset)\n",
        "combined = zip(logits, labels)\n",
        "pickle.dump(combined, open(os.path.join(args.logit_dir, args.model_name + \"_tf_selected_frames_\" + args.dataset_type + \".pkl\"), \"wb\"))"
      ],
      "metadata": {
        "colab": {
          "base_uri": "https://localhost:8080/"
        },
        "id": "Lj_VUNLvKR4B",
        "outputId": "9e095ae8-0e80-45fd-8585-1fc2d232f1c8"
      },
      "execution_count": null,
      "outputs": [
        {
          "output_type": "stream",
          "name": "stdout",
          "text": [
            "\n",
            "######################## Getting Logits ########################\n",
            "\n"
          ]
        }
      ]
    },
    {
      "cell_type": "code",
      "source": [
        "print(logits[0][0])"
      ],
      "metadata": {
        "id": "V4ZxFcNRPjkS",
        "colab": {
          "base_uri": "https://localhost:8080/"
        },
        "outputId": "8f2133a4-4b74-4453-f681-1aa2b00fa7f1"
      },
      "execution_count": 12,
      "outputs": [
        {
          "output_type": "stream",
          "name": "stdout",
          "text": [
            "tf.Tensor(0.3808917, shape=(), dtype=float32)\n"
          ]
        }
      ]
    },
    {
      "cell_type": "code",
      "source": [
        "tf.argmax(logits[0], -1)"
      ],
      "metadata": {
        "colab": {
          "base_uri": "https://localhost:8080/"
        },
        "id": "2IDEor7sVkp7",
        "outputId": "3d37864b-438d-4068-8522-77265490e886"
      },
      "execution_count": 13,
      "outputs": [
        {
          "output_type": "execute_result",
          "data": {
            "text/plain": [
              "<tf.Tensor: shape=(), dtype=int64, numpy=461>"
            ]
          },
          "metadata": {},
          "execution_count": 13
        }
      ]
    },
    {
      "cell_type": "code",
      "source": [
        "from torch.nn.functional import softmax\n",
        "import torch\n",
        "sm = logits[0].numpy()"
      ],
      "metadata": {
        "id": "f_pm8UG0WPu-"
      },
      "execution_count": 17,
      "outputs": []
    },
    {
      "cell_type": "code",
      "source": [
        "sm.shape"
      ],
      "metadata": {
        "id": "YIwsKfzAW3Ux",
        "colab": {
          "base_uri": "https://localhost:8080/"
        },
        "outputId": "b7f84911-f104-4054-abd4-0e92a578969c"
      },
      "execution_count": 18,
      "outputs": [
        {
          "output_type": "execute_result",
          "data": {
            "text/plain": [
              "(600,)"
            ]
          },
          "metadata": {},
          "execution_count": 18
        }
      ]
    },
    {
      "cell_type": "code",
      "source": [
        "sm1 = softmax(torch.from_numpy(sm))"
      ],
      "metadata": {
        "id": "mULLStjqmcfk"
      },
      "execution_count": 23,
      "outputs": []
    },
    {
      "cell_type": "code",
      "source": [
        "sm1[461]"
      ],
      "metadata": {
        "colab": {
          "base_uri": "https://localhost:8080/"
        },
        "id": "54QifixCmeHj",
        "outputId": "87c181a3-c398-4c14-a153-b28403ac11ae"
      },
      "execution_count": 25,
      "outputs": [
        {
          "output_type": "execute_result",
          "data": {
            "text/plain": [
              "tensor(0.9233)"
            ]
          },
          "metadata": {},
          "execution_count": 25
        }
      ]
    },
    {
      "cell_type": "code",
      "source": [
        "for i in batched_dataset:\n",
        "  print(i[0].shape)\n",
        "  break"
      ],
      "metadata": {
        "colab": {
          "base_uri": "https://localhost:8080/"
        },
        "id": "wq5xPtfXmrY0",
        "outputId": "e0f520c2-959e-43f8-9b30-42f790e40bcf"
      },
      "execution_count": 12,
      "outputs": [
        {
          "output_type": "stream",
          "name": "stdout",
          "text": [
            "(16, 5, 224, 224, 3)\n"
          ]
        }
      ]
    },
    {
      "cell_type": "code",
      "source": [
        ""
      ],
      "metadata": {
        "id": "tKld0UYGoUnZ"
      },
      "execution_count": null,
      "outputs": []
    }
  ]
}